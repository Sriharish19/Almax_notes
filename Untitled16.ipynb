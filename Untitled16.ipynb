{
  "nbformat": 4,
  "nbformat_minor": 0,
  "metadata": {
    "colab": {
      "provenance": [],
      "authorship_tag": "ABX9TyPnE0+79GGNstMDT/wrW2UF",
      "include_colab_link": true
    },
    "kernelspec": {
      "name": "python3",
      "display_name": "Python 3"
    },
    "language_info": {
      "name": "python"
    }
  },
  "cells": [
    {
      "cell_type": "markdown",
      "metadata": {
        "id": "view-in-github",
        "colab_type": "text"
      },
      "source": [
        "<a href=\"https://colab.research.google.com/github/Sriharish19/Almax_notes/blob/main/Untitled16.ipynb\" target=\"_parent\"><img src=\"https://colab.research.google.com/assets/colab-badge.svg\" alt=\"Open In Colab\"/></a>"
      ]
    },
    {
      "cell_type": "code",
      "source": [
        "num=55555\n",
        "lst=[]\n",
        "for i in str(num):\n",
        "    lst.append(i)\n",
        "print(lst)\n",
        "x=''.join(lst)\n",
        "lst.reverse()\n",
        "y=''.join(lst)\n",
        "if x==y:\n",
        "    print('Number is Palindrome')\n",
        "else:\n",
        "    print('Number is not a palindrome')"
      ],
      "metadata": {
        "colab": {
          "base_uri": "https://localhost:8080/"
        },
        "id": "z8ovL8Vr5VWn",
        "outputId": "29d391f0-0c88-4e01-a7f4-235a88aa91d4"
      },
      "execution_count": null,
      "outputs": [
        {
          "output_type": "stream",
          "name": "stdout",
          "text": [
            "['5', '5', '5', '5', '5']\n",
            "Number is Palindrome\n"
          ]
        }
      ]
    },
    {
      "cell_type": "code",
      "source": [
        "string='python programming'\n",
        "\n",
        "lst=[i for i in string]\n",
        "\n",
        "for i in range(1,len(string)):\n",
        "  if lst[i]==lst[0]:\n",
        "    lst[i]='$'\n",
        "  else:\n",
        "    pass\n",
        "print(*lst,sep='')"
      ],
      "metadata": {
        "colab": {
          "base_uri": "https://localhost:8080/"
        },
        "id": "BlsFKxn-tiSY",
        "outputId": "b9b782f5-41c2-4c15-fb70-8f3c921aca3c"
      },
      "execution_count": null,
      "outputs": [
        {
          "output_type": "stream",
          "name": "stdout",
          "text": [
            "python $rogramming\n"
          ]
        }
      ]
    },
    {
      "cell_type": "code",
      "source": [
        "string= 'the quick brown fox jumps over the lazy dog'\n",
        "x={}\n",
        "for i in string.split(' '):\n",
        "  if i in x:\n",
        "    x[i]+=1\n",
        "  else:\n",
        "    x[i]=1\n",
        "print(x)\n"
      ],
      "metadata": {
        "colab": {
          "base_uri": "https://localhost:8080/"
        },
        "id": "ZPw8FT48xSrI",
        "outputId": "40cfea62-8870-45ab-852b-1e1c2a188060"
      },
      "execution_count": null,
      "outputs": [
        {
          "output_type": "stream",
          "name": "stdout",
          "text": [
            "{'the': 2, 'quick': 1, 'brown': 1, 'fox': 1, 'jumps': 1, 'over': 1, 'lazy': 1, 'dog': 1}\n"
          ]
        }
      ]
    },
    {
      "cell_type": "code",
      "source": [
        "a='Scta'\n",
        "b='Daientist'\n",
        "c=b[0:2]+a[2:]\n",
        "d=a[0:2]+b[2:]\n",
        "print(c,'',d)"
      ],
      "metadata": {
        "colab": {
          "base_uri": "https://localhost:8080/"
        },
        "id": "lekp8O5eq14q",
        "outputId": "0223ae89-bd21-4e99-9e0f-99a6b9da0caf"
      },
      "execution_count": null,
      "outputs": [
        {
          "output_type": "stream",
          "name": "stdout",
          "text": [
            "Data  Scientist\n"
          ]
        }
      ]
    },
    {
      "cell_type": "code",
      "source": [
        "\n",
        "list_items = list(map(str,input().split(',')))\n",
        "lst=list(set(list_items))\n",
        "print(sorted(lst))"
      ],
      "metadata": {
        "colab": {
          "base_uri": "https://localhost:8080/"
        },
        "id": "0cs8n45rzcue",
        "outputId": "7814db19-e5af-4192-9ccc-05c229a1f850"
      },
      "execution_count": null,
      "outputs": [
        {
          "output_type": "stream",
          "name": "stdout",
          "text": [
            "red, black, pink, green, black, green\n",
            "[' black', ' green', ' pink', 'red']\n"
          ]
        }
      ]
    },
    {
      "cell_type": "code",
      "source": [
        "s1='[[]]'\n",
        "s2='pyth'\n",
        "l=int(len(s1)/2)\n",
        "s3=s1[:l]+s2+s1[l:]\n",
        "print(s3)"
      ],
      "metadata": {
        "colab": {
          "base_uri": "https://localhost:8080/"
        },
        "id": "RbXdzFWh1GmO",
        "outputId": "60cef1ab-19b4-4ade-e6fc-ec78b3c625a3"
      },
      "execution_count": null,
      "outputs": [
        {
          "output_type": "stream",
          "name": "stdout",
          "text": [
            "[[pyth]]\n"
          ]
        }
      ]
    },
    {
      "cell_type": "code",
      "source": [
        "string=str(input())\n",
        "\n",
        "def non_repeating_char(string):\n",
        "  lst=[]\n",
        "  for i in string:\n",
        "    if string.count(i)==1:\n",
        "      return i\n",
        "    else:\n",
        "      x=string.count(i)\n",
        "      lst.append(x)\n",
        "    if len(string)==len(lst):\n",
        "      return 'None'\n",
        "    else:\n",
        "      pass\n",
        "\n",
        "\n",
        "print(non_repeating_char(string))"
      ],
      "metadata": {
        "colab": {
          "base_uri": "https://localhost:8080/"
        },
        "id": "8tU5pywh3wLO",
        "outputId": "bb5b6a4d-c8ec-4e9f-9a86-f28a73cd94d6"
      },
      "execution_count": null,
      "outputs": [
        {
          "output_type": "stream",
          "name": "stdout",
          "text": [
            "abcdef\n",
            "a\n"
          ]
        }
      ]
    },
    {
      "cell_type": "code",
      "source": [
        "string='string= Both of these issues are fixed by postponing the evaluation of annotations. Instead of compiling code which executes expressions in annotations at their definition time, the compiler stores the annotation in a string form equivalent to the AST of the expression in question. If needed, annotations can be resolved at runtime using typing.get_type_hints(). In the common case where this is not required, the annotations are cheaper to store (since short strings are interned by the interpreter) and make startup time faster.'"
      ],
      "metadata": {
        "id": "NPYXijq94s8Z"
      },
      "execution_count": null,
      "outputs": []
    },
    {
      "cell_type": "code",
      "source": [
        "\n",
        "x={}\n",
        "for i in string.split(' '):\n",
        "  if i in x:\n",
        "    x[i]+=1\n",
        "  else:\n",
        "    x[i]=1\n",
        "sorted(x.values())[-1]"
      ],
      "metadata": {
        "colab": {
          "base_uri": "https://localhost:8080/"
        },
        "id": "A70xIiDz4lHF",
        "outputId": "ea025e54-602e-4ee6-cc0e-8f39b3d2589c"
      },
      "execution_count": null,
      "outputs": [
        {
          "output_type": "execute_result",
          "data": {
            "text/plain": [
              "8"
            ]
          },
          "metadata": {},
          "execution_count": 38
        }
      ]
    },
    {
      "cell_type": "code",
      "source": [
        "for i in range(1,10):\n",
        "  \n",
        "  if i <=5:\n",
        "    print('*'*i)\n",
        "  else:\n",
        "    for j in range(1,5):\n",
        "      print('*'*(i-j))\n",
        "      break\n",
        "  "
      ],
      "metadata": {
        "colab": {
          "base_uri": "https://localhost:8080/"
        },
        "id": "AkJtJfySDNRe",
        "outputId": "f5f61c68-91c5-40d4-c71d-034d71aff90a"
      },
      "execution_count": null,
      "outputs": [
        {
          "output_type": "stream",
          "name": "stdout",
          "text": [
            "*\n",
            "**\n",
            "***\n",
            "****\n",
            "*****\n",
            "*****\n",
            "******\n",
            "*******\n",
            "********\n"
          ]
        }
      ]
    },
    {
      "cell_type": "code",
      "source": [
        "lst=[[10, 20], [40], [30, 56, 25], [10, 20], [33], [40]]\n",
        "lst1= list(set([tuple(i) for i in lst]))\n",
        "lst1=[list(i) for i in lst1]\n",
        "lst1\n"
      ],
      "metadata": {
        "colab": {
          "base_uri": "https://localhost:8080/"
        },
        "id": "LYQfiQJI_huA",
        "outputId": "526c30d4-b15f-4fe1-9870-218fae982f90"
      },
      "execution_count": null,
      "outputs": [
        {
          "output_type": "execute_result",
          "data": {
            "text/plain": [
              "[[40], [33], [30, 56, 25], [10, 20]]"
            ]
          },
          "metadata": {},
          "execution_count": 56
        }
      ]
    },
    {
      "cell_type": "code",
      "source": [
        "nums=[3, 4, 0, 0, 0, 6, 2, 0, 6, 7, 6, 0, 0, 0, 9, 10, 7, 4, 4, 5, 3, 0, 0, 2, 9, 7, 1]\n",
        "x=nums.count(0)\n",
        "for i in range(x):\n",
        "  nums.remove(0)\n",
        "for i in range(x):\n",
        "  nums.append(0)\n",
        "print(nums)"
      ],
      "metadata": {
        "colab": {
          "base_uri": "https://localhost:8080/"
        },
        "id": "rdsnpTV6-mAY",
        "outputId": "4ba33068-e1ff-44df-9067-bad6f155536b"
      },
      "execution_count": null,
      "outputs": [
        {
          "output_type": "stream",
          "name": "stdout",
          "text": [
            "[3, 4, 6, 2, 6, 7, 6, 9, 10, 7, 4, 4, 5, 3, 2, 9, 7, 1, 0, 0, 0, 0, 0, 0, 0, 0, 0]\n"
          ]
        }
      ]
    },
    {
      "cell_type": "code",
      "source": [
        "num = eval(input())\n",
        "string=str(input())\n",
        "lst=[]\n",
        "for i in num:\n",
        "  x=str(i)\n",
        "  y=string+x\n",
        "  lst.append(y)\n",
        "print(lst)"
      ],
      "metadata": {
        "colab": {
          "base_uri": "https://localhost:8080/"
        },
        "id": "FOE_E3qj9wV9",
        "outputId": "1f367fe0-878d-4b8e-8fbe-6755cb53a5ca"
      },
      "execution_count": null,
      "outputs": [
        {
          "output_type": "stream",
          "name": "stdout",
          "text": [
            "[1,2,3,4]\n",
            "emp\n",
            "['emp1', 'emp2', 'emp3', 'emp4']\n"
          ]
        }
      ]
    },
    {
      "cell_type": "code",
      "source": [
        "l=[(2, 5), (1, 2), (4, 4), (2, 3), (2, 1)]\n",
        "x={}\n",
        "for i in l:\n",
        "  x[i]=i[-1]\n",
        "print(sorted(x.values()))\n"
      ],
      "metadata": {
        "colab": {
          "base_uri": "https://localhost:8080/"
        },
        "id": "-ZzaNM9A7r_u",
        "outputId": "0344a3c3-0b0b-49ef-d571-ebf3856ceeda"
      },
      "execution_count": null,
      "outputs": [
        {
          "output_type": "stream",
          "name": "stdout",
          "text": [
            "[1, 2, 3, 4, 5]\n"
          ]
        }
      ]
    },
    {
      "cell_type": "code",
      "source": [
        "\n",
        "string=input()\n",
        "\n",
        "def char_frequency(str1):\n",
        "    dict = {}\n",
        "    for n in str1.lower():\n",
        "        keys = dict.keys()\n",
        "        if n in keys:\n",
        "            dict[n] += 1\n",
        "        else:\n",
        "            dict[n] = 1\n",
        "    return dict\n",
        "print(char_frequency(string))"
      ],
      "metadata": {
        "colab": {
          "base_uri": "https://localhost:8080/"
        },
        "id": "c4i_pxZN5VS9",
        "outputId": "b908e9a3-6bbd-40b9-9919-c41fcd4ce549"
      },
      "execution_count": null,
      "outputs": [
        {
          "output_type": "stream",
          "name": "stdout",
          "text": [
            "AlmaBetter\n",
            "{'a': 2, 'l': 1, 'm': 1, 'b': 1, 'e': 2, 't': 2, 'r': 1}\n"
          ]
        }
      ]
    },
    {
      "cell_type": "code",
      "execution_count": null,
      "metadata": {
        "id": "7RVruHLy5Uto",
        "colab": {
          "base_uri": "https://localhost:8080/"
        },
        "outputId": "25b358a1-36b2-4b73-ab83-dc75ed3a435d"
      },
      "outputs": [
        {
          "output_type": "stream",
          "name": "stdout",
          "text": [
            "[2, 3, 5, 5, 3, 5, 4, 3, 4, 4]\n",
            "[2, 3, 5]\n",
            "As The quick brown fox jumps the "
          ]
        }
      ],
      "source": [
        "strs='As The quick brown fox jumps over the lazy dog.'\n",
        "lst=[]\n",
        "for i in strs.split(' '):\n",
        "  lst.append(len(i))\n",
        "print(lst)\n",
        "\n",
        "\n",
        "lst2=[]\n",
        "\n",
        "for val in range(2,max(lst)+1):\n",
        "  for i in range(2, val):\n",
        "    if (val % i) == 0:\n",
        "      break\n",
        "    else:\n",
        "      lst2.append(val)\n",
        "if 2 in lst:\n",
        "  lst2.append(2)\n",
        "else:\n",
        "  pass\n",
        "print(list(set(lst2)))\n",
        "\n",
        "for i in strs.split(' '):\n",
        "  if len(i) in lst2:\n",
        "    print(i,end=' ')\n",
        "  else:\n",
        "    pass"
      ]
    },
    {
      "cell_type": "code",
      "source": [
        "strs = input()\n",
        "lst=[]\n",
        "for i in strs.split(' '):\n",
        "  lst.append(len(i))\n",
        "print(lst)\n",
        "\n",
        "\n",
        "lst2=[]\n",
        "\n",
        "for val in range(2,max(lst)+1):\n",
        "  for i in range(2, val):\n",
        "    if (val % i) == 0:\n",
        "      break\n",
        "    else:\n",
        "      lst2.append(val)\n",
        "if 2 in lst:\n",
        "  lst2.append(2)\n",
        "else:\n",
        "  pass\n",
        "print(list(set(lst2)))\n",
        "\n",
        "for i in strs.split(' '):\n",
        "  if len(i) in lst2:\n",
        "    print(i,end=' ')\n",
        "  else:\n",
        "    pass"
      ],
      "metadata": {
        "colab": {
          "base_uri": "https://localhost:8080/"
        },
        "id": "Wb5SfVbRw4Ew",
        "outputId": "cfce306c-1f21-413d-8658-7875c463ead7"
      },
      "execution_count": null,
      "outputs": [
        {
          "output_type": "stream",
          "name": "stdout",
          "text": [
            "The quick brown fox jumps over the lazy dog.\n",
            "[3, 5, 5, 3, 5, 4, 3, 4, 4]\n",
            "[3, 5]\n",
            "The quick brown fox jumps the "
          ]
        }
      ]
    },
    {
      "cell_type": "code",
      "source": [
        "strs ='The quick brown fox jumps over the lazy dog.'\n",
        "\n",
        "def test(strs):\n",
        "    return \" \".join(strs for strs in strs.split() if is_prime(len(strs))) \n",
        "def is_prime(n):\n",
        "    return n > 1 and all(n % j for j in range(2, int(n ** 0.5) + 1))\n",
        "\n",
        "print(is_prime(5))"
      ],
      "metadata": {
        "colab": {
          "base_uri": "https://localhost:8080/"
        },
        "id": "xZ4plg6rx_p9",
        "outputId": "960a8d17-03b1-418c-bb13-7f1e87e31c7f"
      },
      "execution_count": null,
      "outputs": [
        {
          "output_type": "stream",
          "name": "stdout",
          "text": [
            "True\n"
          ]
        }
      ]
    },
    {
      "cell_type": "code",
      "source": [
        "n=100\n",
        "x=[n % j for j in range(2, int(n ** 0.5) + 1)]\n",
        "print(x)"
      ],
      "metadata": {
        "colab": {
          "base_uri": "https://localhost:8080/"
        },
        "id": "yvdqh8rTyKea",
        "outputId": "55e7706e-aa36-4665-d1a5-5e22d992ec53"
      },
      "execution_count": null,
      "outputs": [
        {
          "output_type": "stream",
          "name": "stdout",
          "text": [
            "[0, 1, 0, 0, 4, 2, 4, 1, 0]\n"
          ]
        }
      ]
    },
    {
      "cell_type": "code",
      "source": [
        "num= int(input())"
      ],
      "metadata": {
        "colab": {
          "base_uri": "https://localhost:8080/",
          "height": 311
        },
        "id": "Yohr4ZV5-p22",
        "outputId": "8cf6910a-cdf2-4171-b2ba-773abd99076f"
      },
      "execution_count": null,
      "outputs": [
        {
          "output_type": "error",
          "ename": "KeyboardInterrupt",
          "evalue": "ignored",
          "traceback": [
            "\u001b[0;31m---------------------------------------------------------------------------\u001b[0m",
            "\u001b[0;31mKeyboardInterrupt\u001b[0m                         Traceback (most recent call last)",
            "\u001b[0;32m<ipython-input-16-d99e96c140ca>\u001b[0m in \u001b[0;36m<module>\u001b[0;34m\u001b[0m\n\u001b[0;32m----> 1\u001b[0;31m \u001b[0mnum\u001b[0m\u001b[0;34m=\u001b[0m \u001b[0mint\u001b[0m\u001b[0;34m(\u001b[0m\u001b[0minput\u001b[0m\u001b[0;34m(\u001b[0m\u001b[0;34m)\u001b[0m\u001b[0;34m)\u001b[0m\u001b[0;34m\u001b[0m\u001b[0;34m\u001b[0m\u001b[0m\n\u001b[0m",
            "\u001b[0;32m/usr/local/lib/python3.8/dist-packages/ipykernel/kernelbase.py\u001b[0m in \u001b[0;36mraw_input\u001b[0;34m(self, prompt)\u001b[0m\n\u001b[1;32m    858\u001b[0m                 \u001b[0;34m\"raw_input was called, but this frontend does not support input requests.\"\u001b[0m\u001b[0;34m\u001b[0m\u001b[0;34m\u001b[0m\u001b[0m\n\u001b[1;32m    859\u001b[0m             )\n\u001b[0;32m--> 860\u001b[0;31m         return self._input_request(str(prompt),\n\u001b[0m\u001b[1;32m    861\u001b[0m             \u001b[0mself\u001b[0m\u001b[0;34m.\u001b[0m\u001b[0m_parent_ident\u001b[0m\u001b[0;34m,\u001b[0m\u001b[0;34m\u001b[0m\u001b[0;34m\u001b[0m\u001b[0m\n\u001b[1;32m    862\u001b[0m             \u001b[0mself\u001b[0m\u001b[0;34m.\u001b[0m\u001b[0m_parent_header\u001b[0m\u001b[0;34m,\u001b[0m\u001b[0;34m\u001b[0m\u001b[0;34m\u001b[0m\u001b[0m\n",
            "\u001b[0;32m/usr/local/lib/python3.8/dist-packages/ipykernel/kernelbase.py\u001b[0m in \u001b[0;36m_input_request\u001b[0;34m(self, prompt, ident, parent, password)\u001b[0m\n\u001b[1;32m    902\u001b[0m             \u001b[0;32mexcept\u001b[0m \u001b[0mKeyboardInterrupt\u001b[0m\u001b[0;34m:\u001b[0m\u001b[0;34m\u001b[0m\u001b[0;34m\u001b[0m\u001b[0m\n\u001b[1;32m    903\u001b[0m                 \u001b[0;31m# re-raise KeyboardInterrupt, to truncate traceback\u001b[0m\u001b[0;34m\u001b[0m\u001b[0;34m\u001b[0m\u001b[0;34m\u001b[0m\u001b[0m\n\u001b[0;32m--> 904\u001b[0;31m                 \u001b[0;32mraise\u001b[0m \u001b[0mKeyboardInterrupt\u001b[0m\u001b[0;34m(\u001b[0m\u001b[0;34m\"Interrupted by user\"\u001b[0m\u001b[0;34m)\u001b[0m \u001b[0;32mfrom\u001b[0m \u001b[0;32mNone\u001b[0m\u001b[0;34m\u001b[0m\u001b[0;34m\u001b[0m\u001b[0m\n\u001b[0m\u001b[1;32m    905\u001b[0m             \u001b[0;32mexcept\u001b[0m \u001b[0mException\u001b[0m \u001b[0;32mas\u001b[0m \u001b[0me\u001b[0m\u001b[0;34m:\u001b[0m\u001b[0;34m\u001b[0m\u001b[0;34m\u001b[0m\u001b[0m\n\u001b[1;32m    906\u001b[0m                 \u001b[0mself\u001b[0m\u001b[0;34m.\u001b[0m\u001b[0mlog\u001b[0m\u001b[0;34m.\u001b[0m\u001b[0mwarning\u001b[0m\u001b[0;34m(\u001b[0m\u001b[0;34m\"Invalid Message:\"\u001b[0m\u001b[0;34m,\u001b[0m \u001b[0mexc_info\u001b[0m\u001b[0;34m=\u001b[0m\u001b[0;32mTrue\u001b[0m\u001b[0;34m)\u001b[0m\u001b[0;34m\u001b[0m\u001b[0;34m\u001b[0m\u001b[0m\n",
            "\u001b[0;31mKeyboardInterrupt\u001b[0m: Interrupted by user"
          ]
        }
      ]
    },
    {
      "cell_type": "code",
      "source": [
        "num=5555\n",
        "s=str(num)\n",
        "for i in s:\n",
        "  while x==len(s):\n",
        "    x=0\n",
        "    if i==s[::-1][x]"
      ],
      "metadata": {
        "id": "3mNJf7ae-p0d"
      },
      "execution_count": null,
      "outputs": []
    },
    {
      "cell_type": "code",
      "source": [
        "n = int(input())\n",
        "def isPalindrome(s):\n",
        "    s=str(s)\n",
        "    for i in range(0, int(len(s))):\n",
        "        if s[i] != s[-(i+1)]:\n",
        "            return 'Number is not Palindrome'\n",
        "        else:\n",
        "            return 'Number is Palindrome'\n",
        "    print( isPalindrome(n))"
      ],
      "metadata": {
        "colab": {
          "base_uri": "https://localhost:8080/"
        },
        "id": "CI3fPwwk-pyK",
        "outputId": "4a402209-b252-41b9-e46c-d89dfd09f268"
      },
      "execution_count": null,
      "outputs": [
        {
          "output_type": "stream",
          "name": "stdout",
          "text": [
            "55555\n",
            "Number is Palindrome\n"
          ]
        }
      ]
    },
    {
      "cell_type": "code",
      "source": [
        "int(5/2)"
      ],
      "metadata": {
        "colab": {
          "base_uri": "https://localhost:8080/"
        },
        "id": "QDhpIpr_-prx",
        "outputId": "63ce7e08-1b79-42f8-bbf7-fa3eb59fa7db"
      },
      "execution_count": null,
      "outputs": [
        {
          "output_type": "execute_result",
          "data": {
            "text/plain": [
              "2"
            ]
          },
          "metadata": {},
          "execution_count": 20
        }
      ]
    },
    {
      "cell_type": "code",
      "source": [
        "num = 6\n",
        "\n",
        "print('Fibonacci Series:')\n",
        "x,y=0,1\n",
        "for i in range(num):\n",
        "  \n",
        "  if i==0:\n",
        "    r=i\n",
        "  else:\n",
        "    x,y=y,(x+y)\n",
        "    r=x\n",
        "  print(r,end=',')"
      ],
      "metadata": {
        "id": "9qESCVrv-ppX",
        "colab": {
          "base_uri": "https://localhost:8080/"
        },
        "outputId": "de7ee936-c96f-4b41-821e-f22967720a2a"
      },
      "execution_count": null,
      "outputs": [
        {
          "output_type": "stream",
          "name": "stdout",
          "text": [
            "Fibonacci Series:\n",
            "0,1,1,2,3,5,"
          ]
        }
      ]
    },
    {
      "cell_type": "code",
      "source": [
        "import pandas as pd"
      ],
      "metadata": {
        "id": "TeOlvvtkA8zo"
      },
      "execution_count": null,
      "outputs": []
    },
    {
      "cell_type": "code",
      "source": [
        "d1={'name':['JOHN1','DAVE','AJAY','TRACY','TIYA'],'height':[174,190,184,170,162]}\n",
        "d2={'name':['john','dave','ajay','tracy','tiya'],'weight':[70,82,65,62,55]}"
      ],
      "metadata": {
        "id": "ZEIrrzvDvn9N"
      },
      "execution_count": null,
      "outputs": []
    },
    {
      "cell_type": "code",
      "source": [
        "df1=pd.DataFrame.from_dict(d1)\n",
        "df1['name']=df1['name'].apply(str.lower)\n",
        "df1"
      ],
      "metadata": {
        "id": "-Yoj8EJ1A8xW"
      },
      "execution_count": null,
      "outputs": []
    },
    {
      "cell_type": "code",
      "source": [
        "df2=pd.DataFrame.from_dict(d2)\n",
        "df2['name']=df2['name'].apply(str.lower)\n",
        "df2"
      ],
      "metadata": {
        "id": "Gt-HGXktA8vA"
      },
      "execution_count": null,
      "outputs": []
    },
    {
      "cell_type": "code",
      "source": [
        "df3=pd.merge(df1,df2,on='name',how='inner')\n",
        "df3"
      ],
      "metadata": {
        "colab": {
          "base_uri": "https://localhost:8080/",
          "height": 175
        },
        "id": "stJfcGB2EDkl",
        "outputId": "868a0a04-6752-4106-a63c-ca3dd358fb15"
      },
      "execution_count": null,
      "outputs": [
        {
          "output_type": "execute_result",
          "data": {
            "text/plain": [
              "    name  height  weight\n",
              "0   dave     190      82\n",
              "1   ajay     184      65\n",
              "2  tracy     170      62\n",
              "3   tiya     162      55"
            ],
            "text/html": [
              "\n",
              "  <div id=\"df-4838cb45-efd2-4fb6-98d3-ecdeef01cf97\">\n",
              "    <div class=\"colab-df-container\">\n",
              "      <div>\n",
              "<style scoped>\n",
              "    .dataframe tbody tr th:only-of-type {\n",
              "        vertical-align: middle;\n",
              "    }\n",
              "\n",
              "    .dataframe tbody tr th {\n",
              "        vertical-align: top;\n",
              "    }\n",
              "\n",
              "    .dataframe thead th {\n",
              "        text-align: right;\n",
              "    }\n",
              "</style>\n",
              "<table border=\"1\" class=\"dataframe\">\n",
              "  <thead>\n",
              "    <tr style=\"text-align: right;\">\n",
              "      <th></th>\n",
              "      <th>name</th>\n",
              "      <th>height</th>\n",
              "      <th>weight</th>\n",
              "    </tr>\n",
              "  </thead>\n",
              "  <tbody>\n",
              "    <tr>\n",
              "      <th>0</th>\n",
              "      <td>dave</td>\n",
              "      <td>190</td>\n",
              "      <td>82</td>\n",
              "    </tr>\n",
              "    <tr>\n",
              "      <th>1</th>\n",
              "      <td>ajay</td>\n",
              "      <td>184</td>\n",
              "      <td>65</td>\n",
              "    </tr>\n",
              "    <tr>\n",
              "      <th>2</th>\n",
              "      <td>tracy</td>\n",
              "      <td>170</td>\n",
              "      <td>62</td>\n",
              "    </tr>\n",
              "    <tr>\n",
              "      <th>3</th>\n",
              "      <td>tiya</td>\n",
              "      <td>162</td>\n",
              "      <td>55</td>\n",
              "    </tr>\n",
              "  </tbody>\n",
              "</table>\n",
              "</div>\n",
              "      <button class=\"colab-df-convert\" onclick=\"convertToInteractive('df-4838cb45-efd2-4fb6-98d3-ecdeef01cf97')\"\n",
              "              title=\"Convert this dataframe to an interactive table.\"\n",
              "              style=\"display:none;\">\n",
              "        \n",
              "  <svg xmlns=\"http://www.w3.org/2000/svg\" height=\"24px\"viewBox=\"0 0 24 24\"\n",
              "       width=\"24px\">\n",
              "    <path d=\"M0 0h24v24H0V0z\" fill=\"none\"/>\n",
              "    <path d=\"M18.56 5.44l.94 2.06.94-2.06 2.06-.94-2.06-.94-.94-2.06-.94 2.06-2.06.94zm-11 1L8.5 8.5l.94-2.06 2.06-.94-2.06-.94L8.5 2.5l-.94 2.06-2.06.94zm10 10l.94 2.06.94-2.06 2.06-.94-2.06-.94-.94-2.06-.94 2.06-2.06.94z\"/><path d=\"M17.41 7.96l-1.37-1.37c-.4-.4-.92-.59-1.43-.59-.52 0-1.04.2-1.43.59L10.3 9.45l-7.72 7.72c-.78.78-.78 2.05 0 2.83L4 21.41c.39.39.9.59 1.41.59.51 0 1.02-.2 1.41-.59l7.78-7.78 2.81-2.81c.8-.78.8-2.07 0-2.86zM5.41 20L4 18.59l7.72-7.72 1.47 1.35L5.41 20z\"/>\n",
              "  </svg>\n",
              "      </button>\n",
              "      \n",
              "  <style>\n",
              "    .colab-df-container {\n",
              "      display:flex;\n",
              "      flex-wrap:wrap;\n",
              "      gap: 12px;\n",
              "    }\n",
              "\n",
              "    .colab-df-convert {\n",
              "      background-color: #E8F0FE;\n",
              "      border: none;\n",
              "      border-radius: 50%;\n",
              "      cursor: pointer;\n",
              "      display: none;\n",
              "      fill: #1967D2;\n",
              "      height: 32px;\n",
              "      padding: 0 0 0 0;\n",
              "      width: 32px;\n",
              "    }\n",
              "\n",
              "    .colab-df-convert:hover {\n",
              "      background-color: #E2EBFA;\n",
              "      box-shadow: 0px 1px 2px rgba(60, 64, 67, 0.3), 0px 1px 3px 1px rgba(60, 64, 67, 0.15);\n",
              "      fill: #174EA6;\n",
              "    }\n",
              "\n",
              "    [theme=dark] .colab-df-convert {\n",
              "      background-color: #3B4455;\n",
              "      fill: #D2E3FC;\n",
              "    }\n",
              "\n",
              "    [theme=dark] .colab-df-convert:hover {\n",
              "      background-color: #434B5C;\n",
              "      box-shadow: 0px 1px 3px 1px rgba(0, 0, 0, 0.15);\n",
              "      filter: drop-shadow(0px 1px 2px rgba(0, 0, 0, 0.3));\n",
              "      fill: #FFFFFF;\n",
              "    }\n",
              "  </style>\n",
              "\n",
              "      <script>\n",
              "        const buttonEl =\n",
              "          document.querySelector('#df-4838cb45-efd2-4fb6-98d3-ecdeef01cf97 button.colab-df-convert');\n",
              "        buttonEl.style.display =\n",
              "          google.colab.kernel.accessAllowed ? 'block' : 'none';\n",
              "\n",
              "        async function convertToInteractive(key) {\n",
              "          const element = document.querySelector('#df-4838cb45-efd2-4fb6-98d3-ecdeef01cf97');\n",
              "          const dataTable =\n",
              "            await google.colab.kernel.invokeFunction('convertToInteractive',\n",
              "                                                     [key], {});\n",
              "          if (!dataTable) return;\n",
              "\n",
              "          const docLinkHtml = 'Like what you see? Visit the ' +\n",
              "            '<a target=\"_blank\" href=https://colab.research.google.com/notebooks/data_table.ipynb>data table notebook</a>'\n",
              "            + ' to learn more about interactive tables.';\n",
              "          element.innerHTML = '';\n",
              "          dataTable['output_type'] = 'display_data';\n",
              "          await google.colab.output.renderOutput(dataTable, element);\n",
              "          const docLink = document.createElement('div');\n",
              "          docLink.innerHTML = docLinkHtml;\n",
              "          element.appendChild(docLink);\n",
              "        }\n",
              "      </script>\n",
              "    </div>\n",
              "  </div>\n",
              "  "
            ]
          },
          "metadata": {},
          "execution_count": 41
        }
      ]
    },
    {
      "cell_type": "code",
      "source": [
        "#n=list(map(str,input().split(' ')))\n",
        "n=['r','b','b','b','b','b','c','c','c','c','e','e','e']\n",
        "s=pd.Series(n)\n",
        "s.value_counts()"
      ],
      "metadata": {
        "colab": {
          "base_uri": "https://localhost:8080/"
        },
        "id": "ibwEUQT_E7uE",
        "outputId": "2cbb3798-9e1a-492f-8b65-1931e0e8e321"
      },
      "execution_count": null,
      "outputs": [
        {
          "output_type": "execute_result",
          "data": {
            "text/plain": [
              "b    5\n",
              "c    4\n",
              "e    3\n",
              "r    1\n",
              "dtype: int64"
            ]
          },
          "metadata": {},
          "execution_count": 50
        }
      ]
    },
    {
      "cell_type": "code",
      "source": [
        "SELECT deptname FROM department WHERE rank >= 2 AND rank <= 5 ORDER BY rank ASC;"
      ],
      "metadata": {
        "id": "V2Ju4hg8Ibtc"
      },
      "execution_count": null,
      "outputs": []
    },
    {
      "cell_type": "code",
      "source": [
        "SELECT AVG(Expense) AS [Avg_Expense]\n",
        "FROM WeekExpense\n",
        "WHERE WeekNumber = 'Week05'"
      ],
      "metadata": {
        "id": "XL7Ao2X8NTSj"
      },
      "execution_count": null,
      "outputs": []
    },
    {
      "cell_type": "code",
      "source": [
        "var=str"
      ],
      "metadata": {
        "id": "71zHxgo4ozD2"
      },
      "execution_count": null,
      "outputs": []
    },
    {
      "cell_type": "code",
      "source": [
        "var=integer"
      ],
      "metadata": {
        "colab": {
          "base_uri": "https://localhost:8080/",
          "height": 165
        },
        "id": "i82pRw9Po1El",
        "outputId": "24068307-f72f-41c7-d985-410c26a5ba50"
      },
      "execution_count": null,
      "outputs": [
        {
          "output_type": "error",
          "ename": "NameError",
          "evalue": "ignored",
          "traceback": [
            "\u001b[0;31m---------------------------------------------------------------------------\u001b[0m",
            "\u001b[0;31mNameError\u001b[0m                                 Traceback (most recent call last)",
            "\u001b[0;32m<ipython-input-4-b65e4c7cb660>\u001b[0m in \u001b[0;36m<module>\u001b[0;34m\u001b[0m\n\u001b[0;32m----> 1\u001b[0;31m \u001b[0mvar\u001b[0m\u001b[0;34m=\u001b[0m\u001b[0minteger\u001b[0m\u001b[0;34m\u001b[0m\u001b[0;34m\u001b[0m\u001b[0m\n\u001b[0m",
            "\u001b[0;31mNameError\u001b[0m: name 'integer' is not defined"
          ]
        }
      ]
    },
    {
      "cell_type": "code",
      "source": [
        "var++"
      ],
      "metadata": {
        "colab": {
          "base_uri": "https://localhost:8080/",
          "height": 130
        },
        "id": "lfA5331Do1CS",
        "outputId": "7f230262-3c27-4a51-de44-72ad3e623248"
      },
      "execution_count": null,
      "outputs": [
        {
          "output_type": "error",
          "ename": "SyntaxError",
          "evalue": "ignored",
          "traceback": [
            "\u001b[0;36m  File \u001b[0;32m\"<ipython-input-5-315a4fa510a0>\"\u001b[0;36m, line \u001b[0;32m1\u001b[0m\n\u001b[0;31m    var++\u001b[0m\n\u001b[0m         ^\u001b[0m\n\u001b[0;31mSyntaxError\u001b[0m\u001b[0;31m:\u001b[0m invalid syntax\n"
          ]
        }
      ]
    },
    {
      "cell_type": "code",
      "source": [
        "var=~~~~~~~100"
      ],
      "metadata": {
        "id": "iBRtOOPao0_-"
      },
      "execution_count": null,
      "outputs": []
    },
    {
      "cell_type": "code",
      "source": [
        "var= def lambda()"
      ],
      "metadata": {
        "colab": {
          "base_uri": "https://localhost:8080/",
          "height": 130
        },
        "id": "qP0iHHP0o09f",
        "outputId": "92b74316-bee6-4da6-e033-d8f8bfd8ec4a"
      },
      "execution_count": null,
      "outputs": [
        {
          "output_type": "error",
          "ename": "SyntaxError",
          "evalue": "ignored",
          "traceback": [
            "\u001b[0;36m  File \u001b[0;32m\"<ipython-input-7-07260f7bc6fc>\"\u001b[0;36m, line \u001b[0;32m1\u001b[0m\n\u001b[0;31m    var= def lambda()\u001b[0m\n\u001b[0m         ^\u001b[0m\n\u001b[0;31mSyntaxError\u001b[0m\u001b[0;31m:\u001b[0m invalid syntax\n"
          ]
        }
      ]
    },
    {
      "cell_type": "code",
      "source": [
        "var=lambda n:n**3"
      ],
      "metadata": {
        "id": "hbkO34ZapAuc"
      },
      "execution_count": null,
      "outputs": []
    },
    {
      "cell_type": "code",
      "source": [
        "x=5\n",
        "lst=[]\n",
        "for i in range(1,x*2):\n",
        "  if i<=5:\n",
        "    lst.append(i)\n",
        "  else:\n",
        "    lst2.append()"
      ],
      "metadata": {
        "id": "kkBEomHDj4gJ"
      },
      "execution_count": null,
      "outputs": []
    },
    {
      "cell_type": "code",
      "source": [
        "rows=5\n",
        "for i in range(rows):\n",
        "  for j in range(i):\n",
        "    print('*'*j, sep='.')\n",
        "    \n",
        "    "
      ],
      "metadata": {
        "colab": {
          "base_uri": "https://localhost:8080/"
        },
        "id": "WHne82FZmIs4",
        "outputId": "bd254967-d13a-4840-cf11-80f0a3512bbf"
      },
      "execution_count": null,
      "outputs": [
        {
          "output_type": "stream",
          "name": "stdout",
          "text": [
            "\n",
            "\n",
            "*\n",
            "\n",
            "*\n",
            "**\n",
            "\n",
            "*\n",
            "**\n",
            "***\n"
          ]
        }
      ]
    },
    {
      "cell_type": "code",
      "source": [
        "string= '''Both of these issues are fixed by postponing the evaluation of annotations. \n",
        "Instead of compiling code which executes expressions in annotations at their definition \n",
        "time, the compiler stores the annotation in a string form equivalent to the AST of the \n",
        "expression in question. If needed, annotations can be resolved at runtime using \n",
        "typing.get_type_hints(). In the common case where this is not required, the \n",
        "annotations are cheaper to store \n",
        "(since short strings are interned by the interpreter) and make startup time faster.'''\n",
        "\n",
        "lst=string.split(' ')\n",
        "x={}\n",
        "\n",
        "for i in lst:\n",
        "    if i  in x:\n",
        "        x[i]+=1\n",
        "    else:\n",
        "        x[i]=1\n",
        "\n",
        "val=sorted(x.values())[-2]\n",
        "lst=list(x.items())\n",
        "for i in lst:\n",
        "  if i[1]==val:\n",
        "    print(i)\n",
        "  else:\n",
        "    pass\n",
        " \n"
      ],
      "metadata": {
        "colab": {
          "base_uri": "https://localhost:8080/"
        },
        "id": "srCAnJMJyx_i",
        "outputId": "07448849-515e-49c8-e2f7-a5f803cf9ce3"
      },
      "execution_count": null,
      "outputs": [
        {
          "output_type": "stream",
          "name": "stdout",
          "text": [
            "('of', 4)\n"
          ]
        }
      ]
    },
    {
      "cell_type": "code",
      "source": [
        "lst=[(2, 5), (1, 2), (4, 4), (2, 3), (2, 1)]\n",
        "lst1=sorted([i[1] for i in lst])\n"
      ],
      "metadata": {
        "colab": {
          "base_uri": "https://localhost:8080/",
          "height": 200
        },
        "id": "rbM-3e1Cyx6H",
        "outputId": "ab8370dd-d3c0-49cf-96f6-90fec22f5fa3"
      },
      "execution_count": null,
      "outputs": [
        {
          "output_type": "error",
          "ename": "TypeError",
          "evalue": "ignored",
          "traceback": [
            "\u001b[0;31m---------------------------------------------------------------------------\u001b[0m",
            "\u001b[0;31mTypeError\u001b[0m                                 Traceback (most recent call last)",
            "\u001b[0;32m<ipython-input-18-8ea7c04b18a0>\u001b[0m in \u001b[0;36m<module>\u001b[0;34m\u001b[0m\n\u001b[1;32m      1\u001b[0m \u001b[0mlst\u001b[0m\u001b[0;34m=\u001b[0m\u001b[0;34m[\u001b[0m\u001b[0;34m(\u001b[0m\u001b[0;36m2\u001b[0m\u001b[0;34m,\u001b[0m \u001b[0;36m5\u001b[0m\u001b[0;34m)\u001b[0m\u001b[0;34m,\u001b[0m \u001b[0;34m(\u001b[0m\u001b[0;36m1\u001b[0m\u001b[0;34m,\u001b[0m \u001b[0;36m2\u001b[0m\u001b[0;34m)\u001b[0m\u001b[0;34m,\u001b[0m \u001b[0;34m(\u001b[0m\u001b[0;36m4\u001b[0m\u001b[0;34m,\u001b[0m \u001b[0;36m4\u001b[0m\u001b[0;34m)\u001b[0m\u001b[0;34m,\u001b[0m \u001b[0;34m(\u001b[0m\u001b[0;36m2\u001b[0m\u001b[0;34m,\u001b[0m \u001b[0;36m3\u001b[0m\u001b[0;34m)\u001b[0m\u001b[0;34m,\u001b[0m \u001b[0;34m(\u001b[0m\u001b[0;36m2\u001b[0m\u001b[0;34m,\u001b[0m \u001b[0;36m1\u001b[0m\u001b[0;34m)\u001b[0m\u001b[0;34m]\u001b[0m\u001b[0;34m\u001b[0m\u001b[0;34m\u001b[0m\u001b[0m\n\u001b[1;32m      2\u001b[0m \u001b[0mlst1\u001b[0m\u001b[0;34m=\u001b[0m\u001b[0msorted\u001b[0m\u001b[0;34m(\u001b[0m\u001b[0;34m[\u001b[0m\u001b[0mi\u001b[0m\u001b[0;34m[\u001b[0m\u001b[0;36m1\u001b[0m\u001b[0;34m]\u001b[0m \u001b[0;32mfor\u001b[0m \u001b[0mi\u001b[0m \u001b[0;32min\u001b[0m \u001b[0mlst\u001b[0m\u001b[0;34m]\u001b[0m\u001b[0;34m)\u001b[0m\u001b[0;34m\u001b[0m\u001b[0;34m\u001b[0m\u001b[0m\n\u001b[0;32m----> 3\u001b[0;31m \u001b[0msorted\u001b[0m\u001b[0;34m(\u001b[0m\u001b[0mlst\u001b[0m\u001b[0;34m,\u001b[0m\u001b[0mkey\u001b[0m\u001b[0;34m=\u001b[0m\u001b[0mlst1\u001b[0m\u001b[0;34m)\u001b[0m\u001b[0;34m\u001b[0m\u001b[0;34m\u001b[0m\u001b[0m\n\u001b[0m",
            "\u001b[0;31mTypeError\u001b[0m: 'list' object is not callable"
          ]
        }
      ]
    },
    {
      "cell_type": "code",
      "source": [
        "for i in range(1,6):\n",
        "    for j in range (1,6):\n",
        "        \n",
        "        if i==j :\n",
        "          print('*.'*j)\n",
        "        else:\n",
        "            pass\n",
        "for i in range(4,0,-1):\n",
        "    for j in range(4,0,-1):\n",
        "        \n",
        "        if i==j :\n",
        "          \n",
        "          print('*.'*j)\n",
        "        else:\n",
        "            pass\n",
        "        \n",
        "\n",
        "        \n"
      ],
      "metadata": {
        "colab": {
          "base_uri": "https://localhost:8080/"
        },
        "id": "P-DMSAVuCUHU",
        "outputId": "2d2522be-da9e-4717-82a7-01a1a12466c9"
      },
      "execution_count": null,
      "outputs": [
        {
          "output_type": "stream",
          "name": "stdout",
          "text": [
            "*.\n",
            "*.*.\n",
            "*.*.*.\n",
            "*.*.*.*.\n",
            "*.*.*.*.*.\n",
            "*.*.*.*.\n",
            "*.*.*.\n",
            "*.*.\n",
            "*.\n"
          ]
        }
      ]
    },
    {
      "cell_type": "code",
      "source": [
        "for i in range(5,1):\n",
        "  print(i)"
      ],
      "metadata": {
        "id": "y6e94GVPE5kl"
      },
      "execution_count": null,
      "outputs": []
    },
    {
      "cell_type": "code",
      "source": [
        "rows= 5\n",
        "colms= 5\n",
        "\n",
        "for i in range(1,rows+1):\n",
        "  for j in range(1,colms+1):\n",
        "    if i==1 or i==colms or j==1 or j==colms:\n",
        "      print(0,end='.')\n",
        "    else:\n",
        "      print(' ',end=' ')\n",
        "  print('')"
      ],
      "metadata": {
        "colab": {
          "base_uri": "https://localhost:8080/"
        },
        "id": "6iEkafcwsu_G",
        "outputId": "80c495c3-1d05-4121-ffdb-89840c9ce0ee"
      },
      "execution_count": null,
      "outputs": [
        {
          "output_type": "stream",
          "name": "stdout",
          "text": [
            "0.0.0.0.0.\n",
            "0.      0.\n",
            "0.      0.\n",
            "0.      0.\n",
            "0.0.0.0.0.\n"
          ]
        }
      ]
    },
    {
      "cell_type": "code",
      "source": [
        "num_of_elements = int(input())\n",
        "lst=[]\n",
        "for i in range(num_of_elements):\n",
        "  x=int(input())\n",
        "  lst.append(x)\n",
        "\n",
        "lst1=list(set(lst))\n",
        "\n",
        "for i in lst1:\n",
        "  if lst.count(i)>1:\n",
        "    print(i,'is repeated ',lst.count(i),'times')\n",
        "  else:\n",
        "    pass"
      ],
      "metadata": {
        "colab": {
          "base_uri": "https://localhost:8080/",
          "height": 380
        },
        "id": "tEiKrhRvsu7i",
        "outputId": "d0b6015e-e9fb-4e12-829b-15ab9fcf9fbe"
      },
      "execution_count": null,
      "outputs": [
        {
          "output_type": "error",
          "ename": "KeyboardInterrupt",
          "evalue": "ignored",
          "traceback": [
            "\u001b[0;31m---------------------------------------------------------------------------\u001b[0m",
            "\u001b[0;31mKeyboardInterrupt\u001b[0m                         Traceback (most recent call last)",
            "\u001b[0;32m<ipython-input-13-d49e9f213b6f>\u001b[0m in \u001b[0;36m<module>\u001b[0;34m\u001b[0m\n\u001b[0;32m----> 1\u001b[0;31m \u001b[0mnum_of_elements\u001b[0m \u001b[0;34m=\u001b[0m \u001b[0mint\u001b[0m\u001b[0;34m(\u001b[0m\u001b[0minput\u001b[0m\u001b[0;34m(\u001b[0m\u001b[0;34m)\u001b[0m\u001b[0;34m)\u001b[0m\u001b[0;34m\u001b[0m\u001b[0;34m\u001b[0m\u001b[0m\n\u001b[0m\u001b[1;32m      2\u001b[0m \u001b[0mlst\u001b[0m\u001b[0;34m=\u001b[0m\u001b[0;34m[\u001b[0m\u001b[0;34m]\u001b[0m\u001b[0;34m\u001b[0m\u001b[0;34m\u001b[0m\u001b[0m\n\u001b[1;32m      3\u001b[0m \u001b[0;32mfor\u001b[0m \u001b[0mi\u001b[0m \u001b[0;32min\u001b[0m \u001b[0mrange\u001b[0m\u001b[0;34m(\u001b[0m\u001b[0mnum_of_elements\u001b[0m\u001b[0;34m)\u001b[0m\u001b[0;34m:\u001b[0m\u001b[0;34m\u001b[0m\u001b[0;34m\u001b[0m\u001b[0m\n\u001b[1;32m      4\u001b[0m   \u001b[0mx\u001b[0m\u001b[0;34m=\u001b[0m\u001b[0mint\u001b[0m\u001b[0;34m(\u001b[0m\u001b[0minput\u001b[0m\u001b[0;34m(\u001b[0m\u001b[0;34m)\u001b[0m\u001b[0;34m)\u001b[0m\u001b[0;34m\u001b[0m\u001b[0;34m\u001b[0m\u001b[0m\n\u001b[1;32m      5\u001b[0m   \u001b[0mlst\u001b[0m\u001b[0;34m.\u001b[0m\u001b[0mappend\u001b[0m\u001b[0;34m(\u001b[0m\u001b[0mx\u001b[0m\u001b[0;34m)\u001b[0m\u001b[0;34m\u001b[0m\u001b[0;34m\u001b[0m\u001b[0m\n",
            "\u001b[0;32m/usr/local/lib/python3.8/dist-packages/ipykernel/kernelbase.py\u001b[0m in \u001b[0;36mraw_input\u001b[0;34m(self, prompt)\u001b[0m\n\u001b[1;32m    858\u001b[0m                 \u001b[0;34m\"raw_input was called, but this frontend does not support input requests.\"\u001b[0m\u001b[0;34m\u001b[0m\u001b[0;34m\u001b[0m\u001b[0m\n\u001b[1;32m    859\u001b[0m             )\n\u001b[0;32m--> 860\u001b[0;31m         return self._input_request(str(prompt),\n\u001b[0m\u001b[1;32m    861\u001b[0m             \u001b[0mself\u001b[0m\u001b[0;34m.\u001b[0m\u001b[0m_parent_ident\u001b[0m\u001b[0;34m,\u001b[0m\u001b[0;34m\u001b[0m\u001b[0;34m\u001b[0m\u001b[0m\n\u001b[1;32m    862\u001b[0m             \u001b[0mself\u001b[0m\u001b[0;34m.\u001b[0m\u001b[0m_parent_header\u001b[0m\u001b[0;34m,\u001b[0m\u001b[0;34m\u001b[0m\u001b[0;34m\u001b[0m\u001b[0m\n",
            "\u001b[0;32m/usr/local/lib/python3.8/dist-packages/ipykernel/kernelbase.py\u001b[0m in \u001b[0;36m_input_request\u001b[0;34m(self, prompt, ident, parent, password)\u001b[0m\n\u001b[1;32m    902\u001b[0m             \u001b[0;32mexcept\u001b[0m \u001b[0mKeyboardInterrupt\u001b[0m\u001b[0;34m:\u001b[0m\u001b[0;34m\u001b[0m\u001b[0;34m\u001b[0m\u001b[0m\n\u001b[1;32m    903\u001b[0m                 \u001b[0;31m# re-raise KeyboardInterrupt, to truncate traceback\u001b[0m\u001b[0;34m\u001b[0m\u001b[0;34m\u001b[0m\u001b[0;34m\u001b[0m\u001b[0m\n\u001b[0;32m--> 904\u001b[0;31m                 \u001b[0;32mraise\u001b[0m \u001b[0mKeyboardInterrupt\u001b[0m\u001b[0;34m(\u001b[0m\u001b[0;34m\"Interrupted by user\"\u001b[0m\u001b[0;34m)\u001b[0m \u001b[0;32mfrom\u001b[0m \u001b[0;32mNone\u001b[0m\u001b[0;34m\u001b[0m\u001b[0;34m\u001b[0m\u001b[0m\n\u001b[0m\u001b[1;32m    905\u001b[0m             \u001b[0;32mexcept\u001b[0m \u001b[0mException\u001b[0m \u001b[0;32mas\u001b[0m \u001b[0me\u001b[0m\u001b[0;34m:\u001b[0m\u001b[0;34m\u001b[0m\u001b[0;34m\u001b[0m\u001b[0m\n\u001b[1;32m    906\u001b[0m                 \u001b[0mself\u001b[0m\u001b[0;34m.\u001b[0m\u001b[0mlog\u001b[0m\u001b[0;34m.\u001b[0m\u001b[0mwarning\u001b[0m\u001b[0;34m(\u001b[0m\u001b[0;34m\"Invalid Message:\"\u001b[0m\u001b[0;34m,\u001b[0m \u001b[0mexc_info\u001b[0m\u001b[0;34m=\u001b[0m\u001b[0;32mTrue\u001b[0m\u001b[0;34m)\u001b[0m\u001b[0;34m\u001b[0m\u001b[0;34m\u001b[0m\u001b[0m\n",
            "\u001b[0;31mKeyboardInterrupt\u001b[0m: Interrupted by user"
          ]
        }
      ]
    },
    {
      "cell_type": "code",
      "source": [
        "num_of_elements = 5\n",
        "lstt=sorted([2,2,3,2,2])\n",
        "\n",
        "\n",
        "lst1=list(set(lst))\n",
        "\n",
        "for i in lstt:\n",
        "  print('i=',i)\n",
        "  print(lstt.index(i))\n",
        "  if lstt.count(i)>1:\n",
        "    print('--',lstt.index(i))\n",
        "    lstt.pop(lstt.index(i))\n",
        "    \n",
        "  else:\n",
        "    pass\n",
        "print(lstt)\n"
      ],
      "metadata": {
        "colab": {
          "base_uri": "https://localhost:8080/"
        },
        "id": "vSKtkBpIzco5",
        "outputId": "8d61d9f3-7cd6-4302-bf3b-4403b081b4f8"
      },
      "execution_count": null,
      "outputs": [
        {
          "output_type": "stream",
          "name": "stdout",
          "text": [
            "i= 2\n",
            "0\n",
            "-- 0\n",
            "i= 2\n",
            "0\n",
            "-- 0\n",
            "i= 3\n",
            "2\n",
            "[2, 2, 3]\n"
          ]
        }
      ]
    },
    {
      "cell_type": "code",
      "source": [
        "num_elem = int(input())\n",
        "lst=[]\n",
        "for i in range(num_elem):\n",
        "  x=int(input())\n",
        "  lst.append(x)\n",
        "\n",
        "lst=list(set(lst))\n",
        "print('Array elements after removing duplicates')\n",
        "for i in lst:\n",
        "  print('\\n',i)\n"
      ],
      "metadata": {
        "colab": {
          "base_uri": "https://localhost:8080/"
        },
        "id": "C2w8n4C-5DqI",
        "outputId": "021cb2af-ed00-4e60-c01b-7461c9c59373"
      },
      "execution_count": null,
      "outputs": [
        {
          "output_type": "stream",
          "name": "stdout",
          "text": [
            "5\n",
            "4\n",
            "2\n",
            "4\n",
            "3\n",
            "2\n",
            "Array elements after removing duplicates\n",
            "\n",
            " 2\n",
            "\n",
            " 3\n",
            "\n",
            " 4\n"
          ]
        }
      ]
    },
    {
      "cell_type": "code",
      "source": [
        "n=[19, 19, 5, 5, 5, 5, 5]"
      ],
      "metadata": {
        "id": "HHIG8IHs7eyk"
      },
      "execution_count": null,
      "outputs": []
    },
    {
      "cell_type": "code",
      "source": [
        "def monotonic(x):\n",
        "  if all([ x[i]>x[i+1]  for i in range(len(x)-1)] ):\n",
        "    return 'Decreasing'\n",
        "  elif all([ x[i]<x[i+1] for i in range(len(x)-1)]):\n",
        "    return \"Increasing\"\n",
        "  else:\n",
        "    return 'Not a monotonic sequence'  \n",
        "\n",
        "\n",
        "print(monotonic(n))"
      ],
      "metadata": {
        "colab": {
          "base_uri": "https://localhost:8080/"
        },
        "id": "dPLS92DD7R9I",
        "outputId": "bc8c5f81-28dd-4f96-dd8b-84bd025f4a4b"
      },
      "execution_count": null,
      "outputs": [
        {
          "output_type": "stream",
          "name": "stdout",
          "text": [
            "Not a monotonic sequence\n"
          ]
        }
      ]
    },
    {
      "cell_type": "code",
      "source": [
        "n='Unhapypy'"
      ],
      "metadata": {
        "id": "__aVojxIBkAx"
      },
      "execution_count": null,
      "outputs": []
    },
    {
      "cell_type": "code",
      "source": [
        "lst=[]\n",
        "for i in range(len(n)-1):\n",
        "  if n[i]==n[i+1]:\n",
        "    lst.append(i)\n",
        "  else:\n",
        "    pass\n",
        "if n[-1]==n[-2]:\n",
        "  lst.append(len(n)-1)\n",
        "else:\n",
        "  pass\n",
        "print(lst)"
      ],
      "metadata": {
        "colab": {
          "base_uri": "https://localhost:8080/"
        },
        "id": "U2jIlC7SBhTd",
        "outputId": "bd6922fb-437b-42d1-c7ac-8de37c61d6ca"
      },
      "execution_count": null,
      "outputs": [
        {
          "output_type": "stream",
          "name": "stdout",
          "text": [
            "[4]\n"
          ]
        }
      ]
    },
    {
      "cell_type": "code",
      "source": [
        "\n",
        "def test(s):\n",
        "    for i in range(len(n) - 2):\n",
        "        if s[i] == s[i + 1]:\n",
        "            return [i, i + 1]\n",
        "        if s[i] == s[i + 2]:\n",
        "            return [i, i + 2] \n",
        "print(test(n))"
      ],
      "metadata": {
        "colab": {
          "base_uri": "https://localhost:8080/"
        },
        "id": "GpTWaHszCBdH",
        "outputId": "936b1d99-cca5-49d7-a1a7-9220ff2c6d88"
      },
      "execution_count": null,
      "outputs": [
        {
          "output_type": "stream",
          "name": "stdout",
          "text": [
            "[4, 6]\n"
          ]
        }
      ]
    },
    {
      "cell_type": "code",
      "source": [
        "lstz=[12, -7, 3, -89, 14, 88, -78, -1, 2, 7] \n",
        "n=6"
      ],
      "metadata": {
        "id": "gbXQpOSAFaG4"
      },
      "execution_count": null,
      "outputs": []
    },
    {
      "cell_type": "code",
      "source": [
        "lst1=[]\n",
        "for i in range (0,len(lstz)):\n",
        "      lst1.append(lstz[i])\n",
        "      lst1.append(n)    \n",
        "lst1.pop()\n",
        "print(lst1)"
      ],
      "metadata": {
        "colab": {
          "base_uri": "https://localhost:8080/"
        },
        "id": "3AEyBSwoFY47",
        "outputId": "b6fb0efa-170f-4802-9eb2-3c0bb328a473"
      },
      "execution_count": null,
      "outputs": [
        {
          "output_type": "stream",
          "name": "stdout",
          "text": [
            "[12, 6, -7, 6, 3, 6, -89, 6, 14, 6, 88, 6, -78, 6, -1, 6, 2, 6, 7]\n"
          ]
        }
      ]
    }
  ]
}