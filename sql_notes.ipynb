{
  "nbformat": 4,
  "nbformat_minor": 0,
  "metadata": {
    "colab": {
      "provenance": [],
      "authorship_tag": "ABX9TyPMT47nrmD45FGSisfm6BKj",
      "include_colab_link": true
    },
    "kernelspec": {
      "name": "python3",
      "display_name": "Python 3"
    },
    "language_info": {
      "name": "python"
    }
  },
  "cells": [
    {
      "cell_type": "markdown",
      "metadata": {
        "id": "view-in-github",
        "colab_type": "text"
      },
      "source": [
        "<a href=\"https://colab.research.google.com/github/Sriharish19/Almax_notes/blob/main/sql_notes.ipynb\" target=\"_parent\"><img src=\"https://colab.research.google.com/assets/colab-badge.svg\" alt=\"Open In Colab\"/></a>"
      ]
    },
    {
      "cell_type": "markdown",
      "source": [
        "# The SQL SELECT Statement\n",
        "\n",
        "The SELECT statement is used to select data from a database.\n",
        "\n",
        "The data returned is stored in a result table, called the result-set.\n",
        "\n",
        "SELECT Syntax\n",
        "\n",
        "  SELECT column1, column2, ...\n",
        "  FROM table_name;\n",
        "\n",
        "To select all the fields available in the table, syntax:\n",
        "\n",
        "  SELECT * FROM table_name;\n",
        "\n",
        "The following SQL statement selects the \"CustomerName\" and \"City\" columns from the \"Customers\" table:\n",
        "\n",
        "  SELECT CustomerName, City FROM Customers;\n"
      ],
      "metadata": {
        "id": "moyf-SogGjZC"
      }
    },
    {
      "cell_type": "markdown",
      "source": [
        "# The SQL WHERE Clause\n",
        "\n",
        "The WHERE clause is used to filter records.\n",
        "\n",
        "It is used to extract only those records that fulfill a specified condition.\n",
        "\n",
        "WHERE Syntax\n",
        "\n",
        "  SELECT column1, column2, ...\n",
        "  FROM table_name\n",
        "  WHERE condition;\n",
        "\n",
        "Note: The WHERE clause is not only used in SELECT statements, it is also used in UPDATE, DELETE, etc.!\n",
        "\n",
        "The following SQL statement selects all the customers from the country \"Mexico\", in the \"Customers\" table:\n",
        "\n",
        "  SELECT * FROM Customers\n",
        "  WHERE Country='Mexico';\n",
        "\n",
        "SQL requires single quotes around text values (most database systems will also allow double quotes).\n",
        "\n",
        "However, numeric fields should not be enclosed in quotes:\n",
        "\n",
        "  SELECT * FROM Customers\n",
        "  WHERE CustomerID=1;\n",
        "\n"
      ],
      "metadata": {
        "id": "1eSGE9HwIesr"
      }
    },
    {
      "cell_type": "markdown",
      "source": [
        "# The SQL COUNT(), AVG() and SUM() Functions\n",
        "\n",
        "The COUNT() function returns the number of rows that matches a specified criterion.\n",
        "\n",
        "COUNT() Syntax\n",
        "\n",
        "  SELECT COUNT(column_name)\n",
        "  FROM table_name\n",
        "  WHERE condition;\n",
        "\n",
        "The following SQL statement finds the number of products:\n",
        "\n",
        "  SELECT COUNT(ProductID)\n",
        "  FROM Products;\n",
        "\n",
        "The AVG() function returns the average value of a numeric column.\n",
        "\n",
        "AVG() Syntax\n",
        "\n",
        "  SELECT AVG(column_name)\n",
        "  FROM table_name\n",
        "  WHERE condition;\n",
        "\n",
        "The following SQL statement finds the average price of all products:\n",
        "\n",
        "  SELECT AVG(Price)\n",
        "  FROM Products;\n",
        "\n",
        "Note: NULL values are ignored.\n",
        "\n",
        "The SUM() function returns the total sum of a numeric column. \n",
        "\n",
        "SUM() Syntax\n",
        "\n",
        "  SELECT SUM(column_name)\n",
        "  FROM table_name\n",
        "  WHERE condition;\n",
        "\n",
        "The following SQL statement finds the sum of the \"Quantity\" fields in the \"OrderDetails\" table:\n",
        "\n",
        "  SELECT SUM(Quantity)\n",
        "  FROM OrderDetails;\n",
        "\n",
        " NULL values are ignored.\n",
        "\n",
        "\n",
        "**The SQL MIN() and MAX() Functions**\n",
        "\n",
        "The MIN() function returns the smallest value of the selected column.\n",
        "\n",
        "The MAX() function returns the largest value of the selected column.\n",
        "\n",
        "MIN() Syntax\n",
        "\n",
        "  SELECT MIN(column_name)\n",
        "  FROM table_name\n",
        "  WHERE condition;\n",
        "\n",
        "The following SQL statement finds the price of the cheapest product:\n",
        "\n",
        "  SELECT MIN(Price) AS SmallestPrice\n",
        "  FROM Products;\n",
        "\n",
        "MAX() Syntax\n",
        "\n",
        "  SELECT MAX(column_name)\n",
        "  FROM table_name\n",
        "  WHERE condition;\n",
        "\n",
        "The following SQL statement finds the price of the most expensive product:\n",
        "\n",
        "  SELECT MAX(Price) AS LargestPrice\n",
        "  FROM Products;"
      ],
      "metadata": {
        "id": "NCOqF2vcJGgu"
      }
    },
    {
      "cell_type": "markdown",
      "source": [
        "#The SQL GROUP BY Statement\n",
        "\n",
        "The GROUP BY statement groups rows that have the same values into summary rows, like \"find the number of customers in each country\".\n",
        "\n",
        "The GROUP BY statement is often used with aggregate functions (COUNT(), MAX(), MIN(), SUM(), AVG()) to group the result-set by one or more columns.\n",
        "\n",
        "GROUP BY Syntax\n",
        "\n",
        "  SELECT column_name(s)\n",
        "  FROM table_name\n",
        "  WHERE condition\n",
        "  GROUP BY column_name(s)\n",
        "  ORDER BY column_name(s);\n",
        "\n",
        "The following SQL statement lists the number of customers in each country:\n",
        "\n",
        "  SELECT COUNT(CustomerID), Country\n",
        "  FROM Customers\n",
        "  GROUP BY Country;\n",
        "\n",
        "The following SQL statement lists the number of customers in each country, sorted high to low:\n",
        "\n",
        "  SELECT COUNT(CustomerID), Country\n",
        "  FROM Customers\n",
        "  GROUP BY Country\n",
        "  ORDER BY COUNT(CustomerID) DESC;\n",
        "\n",
        "The following SQL statement lists the number of orders sent by each shipper:\n",
        "\n",
        "  SELECT Shippers.ShipperName, COUNT(Orders.OrderID) AS NumberOfOrders FROM Orders\n",
        "  LEFT JOIN Shippers ON Orders.ShipperID = Shippers.ShipperID\n",
        "  GROUP BY ShipperName;\n",
        "  "
      ],
      "metadata": {
        "id": "wQK1klf0LsDq"
      }
    },
    {
      "cell_type": "markdown",
      "source": [
        "# The SQL HAVING Clause\n",
        "\n",
        "The HAVING clause was added to SQL because the WHERE keyword cannot be used with aggregate functions.\n",
        "\n",
        "HAVING Syntax\n",
        "\n",
        "  SELECT column_name(s)\n",
        "  FROM table_name\n",
        "  WHERE condition\n",
        "  GROUP BY column_name(s)\n",
        "  HAVING condition\n",
        "  ORDER BY column_name(s);\n",
        "\n",
        "The following SQL statement lists the number of customers in each country. Only include countries with more than 5 customers:\n",
        "\n",
        "Example\n",
        "\n",
        "  SELECT COUNT(CustomerID), Country\n",
        "  FROM Customers\n",
        "  GROUP BY Country\n",
        "  HAVING COUNT(CustomerID) > 5;\n",
        "\n",
        "The following SQL statement lists the number of customers in each country, sorted high to low (Only include countries with more than 5 customers):\n",
        "\n",
        "  SELECT COUNT(CustomerID), Country\n",
        "  FROM Customers\n",
        "  GROUP BY Country\n",
        "  HAVING COUNT(CustomerID) > 5\n",
        "  ORDER BY COUNT(CustomerID) DESC;"
      ],
      "metadata": {
        "id": "6F-i9_1rOxOw"
      }
    }
  ]
}